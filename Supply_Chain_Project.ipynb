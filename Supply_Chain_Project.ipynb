{
 "cells": [
  {
   "cell_type": "markdown",
   "metadata": {},
   "source": [
    "# Lagrangian Relaxation Implementation\n",
    "### Supply chain project\n",
    "#### Team Members: Ghizlaine Bennani, Chuiyi (Tracy) Liu, Tate Campbell, Abhishek Singh"
   ]
  },
  {
   "cell_type": "code",
   "execution_count": 33,
   "metadata": {
    "collapsed": false
   },
   "outputs": [],
   "source": [
    "#Loading the libraries for computation\n",
    "import pandas as pd, numpy as np"
   ]
  },
  {
   "cell_type": "code",
   "execution_count": 34,
   "metadata": {
    "collapsed": false
   },
   "outputs": [],
   "source": [
    "#Loading the distance datasets & generating matrix from them\n",
    "distance_49 = np.array(pd.read_csv('49 NodeDistanceData.txt')) # 49 Distance Node\n",
    "distance_49 = distance_49.reshape(49,49)\n",
    "distance_88 = np.array(pd.read_csv('88 NodeDistanceData.txt')) # 88 Distance Node\n",
    "distance_88 = distance_88.reshape(88,88)\n",
    "distance_150 = np.array(pd.read_csv('150 NodeDistanceData.txt')) # 150 Distance Node\n",
    "distance_150 = distance_150.reshape(150,150)\n",
    "\n",
    "#Loading the demand datasets & selecting only the first column for our problem\n",
    "demand_49 = pd.read_csv('49 NodeDemandData.txt', sep='\\t',  header = True) # 49 Demand Node\n",
    "demand_49 = demand_49.icol(0) \n",
    "demand_88 = pd.read_csv('88 NodeDemandData.txt', sep='\\t',  header = True) # 88 Demand Node\n",
    "demand_88 = demand_88.icol(0) \n",
    "demand_150 = pd.read_csv('150 NodeDemandData.txt', sep='\\t',  header = True)# 150 Demand Node\n",
    "demand_150 = demand_150.icol(0)           \n"
   ]
  },
  {
   "cell_type": "code",
   "execution_count": 35,
   "metadata": {
    "collapsed": true
   },
   "outputs": [],
   "source": [
    "def pre_process(dis_matrix, Dc = 700):\n",
    "    \"\"\"\n",
    "    This function will preprocess the distance. \n",
    "    :param dis_matrix: a matrix with rows as node and columns as node and the entry is the distance\n",
    "    :param Dc: the availabel distance that can be achieved \n",
    "    :return pro_matrix: a matrix the entry where larger than the Dc will be assigned 0, otherwise 1.\n",
    "    \"\"\"\n",
    "    m, n = dis_matrix.shape\n",
    "    pro_matrix = np.zeros((m, n))\n",
    "    pro_matrix[dis_matrix < Dc] = 1\n",
    "    return pro_matrix"
   ]
  },
  {
   "cell_type": "code",
   "execution_count": 36,
   "metadata": {
    "collapsed": true
   },
   "outputs": [],
   "source": [
    "#Preprocessing all the distance matrices\n",
    "distance_49 = pre_process(distance_49)\n",
    "distance_88 = pre_process(distance_88)\n",
    "distance_150 = pre_process(distance_150)"
   ]
  },
  {
   "cell_type": "code",
   "execution_count": 37,
   "metadata": {
    "collapsed": true
   },
   "outputs": [],
   "source": [
    "def lagrangian_relaxation(demand_data, distance_data, lambda_i):\n",
    "    \"\"\"\n",
    "    For performing LR Iterations with the given inputs, to update Alpha & t\n",
    "    ouput: Upper Bound & Lower Bound\n",
    "    \"\"\"\n",
    "    h_i, Z_i = demand_data, np.zeros(len(h_i)) ## subproblem 1\n",
    "    Z_i[h_i - lambda_i > 0] = 1 #Tagging as 1 for the breakoff points\n",
    "    sub1_value = np.dot((h_i - lambda_i), Z_i)\n",
    "    \n",
    "    a_ij_lambda_i = np.dot(distance_data, lambda_i) ## subproblem 2\n",
    "    X_i = np.zeros(len(a_ij_lambda_i)) # X_i is the solution to subproblem 2\n",
    "\n",
    "    X_i[X_i == max(X_i)] = 1\n",
    "    sub2_value = np.dot(a_ij_lambda_i, X_i)\n",
    "    \n",
    "    upper_bound = sub1_value + sub2_value\n",
    "    lower_bound = sum(h_i[np.dot(a_ij_lambda_i, X_i) - Z_i > 0])\n",
    "    \n",
    "    return X_i, Z_i, upper_bound, lower_bound "
   ]
  },
  {
   "cell_type": "code",
   "execution_count": 38,
   "metadata": {
    "collapsed": true
   },
   "outputs": [],
   "source": [
    "def update_lambda(alpha, upper_bound, lower_bound, a_ij, X_i, Z_i, lambda_i):\n",
    "    \"\"\"\n",
    "    This function returns the value of updated lambda using previous values\n",
    "    \"\"\"\n",
    "    t = alpha * (upper_bound - lower_bound)/ sum((np.dot(a_ij, X_i) - Z_i)^2)\n",
    "    lambda_i = max(0, lambda_i - t*(np.dot(a_ij, X_i) - Z_i))\n",
    "    return lambda_i"
   ]
  },
  {
   "cell_type": "code",
   "execution_count": 39,
   "metadata": {
    "collapsed": false
   },
   "outputs": [],
   "source": [
    "def iterator(demand, distance, supply_points = 10):\n",
    "    \"\"\"\n",
    "    Getting started for all the different nodes\n",
    "    :param demand: demand array\n",
    "    :param distance: distance matrix\n",
    "    \"\"\"\n",
    "    n, alpha = 1, 2.0\n",
    "    lambda_i = np.mean(demand) + 0.5 * (demand - np.mean(demand))\n",
    "    \n",
    "    max_iterations, min_alpha = 500, 0.01 #To ensure convergence\n",
    "\n",
    "    X_i, Z_i, upper_bound, lower_bound = lagrangian_relaxation(demand, distance, lambda_i, supply_points)\n",
    "    best_lower_bound, best_upper_bound = lower_bound, upper_bound #Updating UB & LB after each iteration\n",
    "\n",
    "    improvement_iteration = 0\n",
    "    \n",
    "    converged = False\n",
    "    \n",
    "    while not converged:    \n",
    "        X_i, Z_i, upper_bound, lower_bound = lagrangian_relaxation(demand, distance, lambda_i)\n",
    "\n",
    "        if upper_bound >= best_upper_bound: \n",
    "            improvement_iteration += 1\n",
    "\n",
    "        best_upper_bound = min(best_upper_bound, upper_bound)\n",
    "        best_lower_bound = max(best_lower_bound, lower_bound)\n",
    "\n",
    "        if best_upper_bound == best_lower_bound or n > max_iterations or alpha < min_alpha:\n",
    "            print best_upper_bound == best_lower_bound, n > max_iterations, alpha < min_alpha\n",
    "            return X_i, Z_i, upper_bound, lower_bound  \n",
    "\n",
    "        elif improvement_iteration == 4:\n",
    "            alpha = alpha/2.0\n",
    "\n",
    "        else:\n",
    "            lambda_i = update_lambda(alpha, upper_bound, lower_bound, distance, X_i, Z_i, lambda_i)\n",
    "\n",
    "        n += 1 \n",
    "        print n\n",
    "        if improvement_iteration >= max_iterations  or  improvement_iteration <= min_alpha:\n",
    "            converged = True \n",
    "        \n",
    "        demand_met = np.dot(X_i, demand)\n",
    "        \n",
    "    return demand_met"
   ]
  },
  {
   "cell_type": "code",
   "execution_count": 40,
   "metadata": {
    "collapsed": false
   },
   "outputs": [
    {
     "ename": "TypeError",
     "evalue": "lagrangian_relaxation() takes exactly 3 arguments (4 given)",
     "output_type": "error",
     "traceback": [
      "\u001b[0;31m---------------------------------------------------------------------------\u001b[0m",
      "\u001b[0;31mTypeError\u001b[0m                                 Traceback (most recent call last)",
      "\u001b[0;32m<ipython-input-40-89a831fbecd6>\u001b[0m in \u001b[0;36m<module>\u001b[0;34m()\u001b[0m\n\u001b[1;32m      1\u001b[0m \u001b[0;31m# For the 49 Node cluster\u001b[0m\u001b[0;34m\u001b[0m\u001b[0;34m\u001b[0m\u001b[0m\n\u001b[0;32m----> 2\u001b[0;31m \u001b[0miterator\u001b[0m\u001b[0;34m(\u001b[0m\u001b[0mdemand\u001b[0m \u001b[0;34m=\u001b[0m \u001b[0mdemand_49\u001b[0m\u001b[0;34m,\u001b[0m \u001b[0mdistance\u001b[0m \u001b[0;34m=\u001b[0m \u001b[0mdistance_49\u001b[0m\u001b[0;34m,\u001b[0m \u001b[0msupply_points\u001b[0m \u001b[0;34m=\u001b[0m \u001b[0;36m10\u001b[0m\u001b[0;34m)\u001b[0m\u001b[0;34m\u001b[0m\u001b[0m\n\u001b[0m",
      "\u001b[0;32m<ipython-input-39-eb4d37836d7c>\u001b[0m in \u001b[0;36miterator\u001b[0;34m(demand, distance, supply_points)\u001b[0m\n\u001b[1;32m     10\u001b[0m     \u001b[0mmax_iterations\u001b[0m\u001b[0;34m,\u001b[0m \u001b[0mmin_alpha\u001b[0m \u001b[0;34m=\u001b[0m \u001b[0;36m500\u001b[0m\u001b[0;34m,\u001b[0m \u001b[0;36m0.01\u001b[0m \u001b[0;31m#To ensure convergence\u001b[0m\u001b[0;34m\u001b[0m\u001b[0m\n\u001b[1;32m     11\u001b[0m \u001b[0;34m\u001b[0m\u001b[0m\n\u001b[0;32m---> 12\u001b[0;31m     \u001b[0mX_i\u001b[0m\u001b[0;34m,\u001b[0m \u001b[0mZ_i\u001b[0m\u001b[0;34m,\u001b[0m \u001b[0mupper_bound\u001b[0m\u001b[0;34m,\u001b[0m \u001b[0mlower_bound\u001b[0m \u001b[0;34m=\u001b[0m \u001b[0mlagrangian_relaxation\u001b[0m\u001b[0;34m(\u001b[0m\u001b[0mdemand\u001b[0m\u001b[0;34m,\u001b[0m \u001b[0mdistance\u001b[0m\u001b[0;34m,\u001b[0m \u001b[0mlambda_i\u001b[0m\u001b[0;34m,\u001b[0m \u001b[0msupply_points\u001b[0m\u001b[0;34m)\u001b[0m\u001b[0;34m\u001b[0m\u001b[0m\n\u001b[0m\u001b[1;32m     13\u001b[0m     \u001b[0mbest_lower_bound\u001b[0m\u001b[0;34m,\u001b[0m \u001b[0mbest_upper_bound\u001b[0m \u001b[0;34m=\u001b[0m \u001b[0mlower_bound\u001b[0m\u001b[0;34m,\u001b[0m \u001b[0mupper_bound\u001b[0m \u001b[0;31m#Updating UB & LB after each iteration\u001b[0m\u001b[0;34m\u001b[0m\u001b[0m\n\u001b[1;32m     14\u001b[0m \u001b[0;34m\u001b[0m\u001b[0m\n",
      "\u001b[0;31mTypeError\u001b[0m: lagrangian_relaxation() takes exactly 3 arguments (4 given)"
     ]
    }
   ],
   "source": [
    "# For the 49 Node cluster\n",
    "iterator(demand = demand_49, distance = distance_49, supply_points = 10)"
   ]
  },
  {
   "cell_type": "code",
   "execution_count": 24,
   "metadata": {
    "collapsed": false,
    "scrolled": true
   },
   "outputs": [
    {
     "ename": "TypeError",
     "evalue": "lagrangian_relaxation() takes exactly 3 arguments (4 given)",
     "output_type": "error",
     "traceback": [
      "\u001b[0;31m---------------------------------------------------------------------------\u001b[0m",
      "\u001b[0;31mTypeError\u001b[0m                                 Traceback (most recent call last)",
      "\u001b[0;32m<ipython-input-24-52e5fcbe80da>\u001b[0m in \u001b[0;36m<module>\u001b[0;34m()\u001b[0m\n\u001b[1;32m      1\u001b[0m \u001b[0;31m# For the 88 Node cluster\u001b[0m\u001b[0;34m\u001b[0m\u001b[0;34m\u001b[0m\u001b[0m\n\u001b[0;32m----> 2\u001b[0;31m \u001b[0miterator\u001b[0m\u001b[0;34m(\u001b[0m\u001b[0mdemand\u001b[0m \u001b[0;34m=\u001b[0m \u001b[0mdemand_88\u001b[0m\u001b[0;34m,\u001b[0m \u001b[0mdistance\u001b[0m \u001b[0;34m=\u001b[0m \u001b[0mdistance_88\u001b[0m\u001b[0;34m,\u001b[0m \u001b[0msupply_points\u001b[0m \u001b[0;34m=\u001b[0m \u001b[0;36m10\u001b[0m\u001b[0;34m)\u001b[0m\u001b[0;34m\u001b[0m\u001b[0m\n\u001b[0m",
      "\u001b[0;32m<ipython-input-22-f65526326a46>\u001b[0m in \u001b[0;36miterator\u001b[0;34m(demand, distance, supply_points)\u001b[0m\n\u001b[1;32m     10\u001b[0m     \u001b[0mmax_iterations\u001b[0m\u001b[0;34m,\u001b[0m \u001b[0mmin_alpha\u001b[0m \u001b[0;34m=\u001b[0m \u001b[0;36m500\u001b[0m\u001b[0;34m,\u001b[0m \u001b[0;36m0.01\u001b[0m \u001b[0;31m#To ensure convergence\u001b[0m\u001b[0;34m\u001b[0m\u001b[0m\n\u001b[1;32m     11\u001b[0m \u001b[0;34m\u001b[0m\u001b[0m\n\u001b[0;32m---> 12\u001b[0;31m     \u001b[0mX_i\u001b[0m\u001b[0;34m,\u001b[0m \u001b[0mZ_i\u001b[0m\u001b[0;34m,\u001b[0m \u001b[0mupper_bound\u001b[0m\u001b[0;34m,\u001b[0m \u001b[0mlower_bound\u001b[0m \u001b[0;34m=\u001b[0m \u001b[0mlagrangian_relaxation\u001b[0m\u001b[0;34m(\u001b[0m\u001b[0mdemand\u001b[0m\u001b[0;34m,\u001b[0m \u001b[0mdistance\u001b[0m\u001b[0;34m,\u001b[0m \u001b[0mlambda_i\u001b[0m\u001b[0;34m,\u001b[0m \u001b[0msupply_points\u001b[0m\u001b[0;34m)\u001b[0m\u001b[0;34m\u001b[0m\u001b[0m\n\u001b[0m\u001b[1;32m     13\u001b[0m     \u001b[0mbest_lower_bound\u001b[0m\u001b[0;34m,\u001b[0m \u001b[0mbest_upper_bound\u001b[0m \u001b[0;34m=\u001b[0m \u001b[0mlower_bound\u001b[0m\u001b[0;34m,\u001b[0m \u001b[0mupper_bound\u001b[0m \u001b[0;31m#Updating UB & LB after each iteration\u001b[0m\u001b[0;34m\u001b[0m\u001b[0m\n\u001b[1;32m     14\u001b[0m \u001b[0;34m\u001b[0m\u001b[0m\n",
      "\u001b[0;31mTypeError\u001b[0m: lagrangian_relaxation() takes exactly 3 arguments (4 given)"
     ]
    }
   ],
   "source": [
    "# For the 88 Node cluster\n",
    "iterator(demand = demand_88, distance = distance_88, supply_points = 10)"
   ]
  },
  {
   "cell_type": "code",
   "execution_count": null,
   "metadata": {
    "collapsed": true
   },
   "outputs": [],
   "source": []
  },
  {
   "cell_type": "code",
   "execution_count": null,
   "metadata": {
    "collapsed": true
   },
   "outputs": [],
   "source": []
  }
 ],
 "metadata": {
  "kernelspec": {
   "display_name": "Python 2",
   "language": "python",
   "name": "python2"
  },
  "language_info": {
   "codemirror_mode": {
    "name": "ipython",
    "version": 2
   },
   "file_extension": ".py",
   "mimetype": "text/x-python",
   "name": "python",
   "nbconvert_exporter": "python",
   "pygments_lexer": "ipython2",
   "version": "2.7.10"
  }
 },
 "nbformat": 4,
 "nbformat_minor": 0
}
